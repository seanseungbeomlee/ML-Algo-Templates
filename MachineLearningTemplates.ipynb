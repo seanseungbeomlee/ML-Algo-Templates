{
 "cells": [
  {
   "cell_type": "markdown",
   "id": "df12e9f4",
   "metadata": {},
   "source": [
    "# Linear Regression "
   ]
  },
  {
   "cell_type": "code",
   "execution_count": 1,
   "id": "1b3e744d",
   "metadata": {
    "ExecuteTime": {
     "end_time": "2022-09-25T00:32:43.164608Z",
     "start_time": "2022-09-25T00:32:43.158733Z"
    }
   },
   "outputs": [],
   "source": [
    "import numpy as np\n",
    "import matplotlib.pyplot as plt\n",
    "\n",
    "class LinearRegression:\n",
    "    def __init__(self):\n",
    "        self.b0 = 0\n",
    "        self.b1 = 0\n",
    "    \n",
    "    def mean(self, X):\n",
    "        return sum(X) / len(X)\n",
    "    \n",
    "    def variance(self, X):\n",
    "        return sum([(X[i] - self.mean(X))**2 for i in range(len(X))])\n",
    "    \n",
    "    def covariance(self, X, y):\n",
    "        return sum([(X[i] - self.mean(X)) * (y[i] - self.mean(y)) for i in range(len(X))])\n",
    "    \n",
    "    def fit(self, X, y):\n",
    "        self.b1 = self.covariance(X, y) / self.variance(X)\n",
    "        self.b0 = self.mean(y) - self.b1*self.mean(X)\n",
    "    \n",
    "    def predict(self, X):\n",
    "        return self.b0 + self.b1*X"
   ]
  },
  {
   "cell_type": "code",
   "execution_count": 3,
   "id": "8f5ba0fe",
   "metadata": {
    "ExecuteTime": {
     "end_time": "2022-09-25T00:34:53.010252Z",
     "start_time": "2022-09-25T00:34:52.899371Z"
    },
    "scrolled": false
   },
   "outputs": [
    {
     "data": {
      "image/png": "[encoded data removed]",
      "text/plain": [
       "<Figure size 432x288 with 1 Axes>"
      ]
     },
     "metadata": {
      "needs_background": "light"
     },
     "output_type": "display_data"
    }
   ],
   "source": [
    "# make dataset\n",
    "X = np.random.uniform(1, 100, 10)\n",
    "y = np.random.uniform(1, 100, 10)\n",
    "linreg = LinearRegression()\n",
    "linreg.fit(X, y)\n",
    "y_hat = linreg.predict(X)\n",
    "plt.scatter(X, y)\n",
    "plt.plot(X, y_hat)\n",
    "plt.show()"
   ]
  },
  {
   "cell_type": "markdown",
   "id": "93490a22",
   "metadata": {},
   "source": [
    "# Logistic Regression "
   ]
  },
  {
   "cell_type": "code",
   "execution_count": 4,
   "id": "2caced1e",
   "metadata": {
    "ExecuteTime": {
     "end_time": "2022-09-25T21:14:00.941893Z",
     "start_time": "2022-09-25T21:14:00.935208Z"
    }
   },
   "outputs": [],
   "source": [
    "class LogisticRegression:\n",
    "    def __init__(self):\n",
    "        self.b0 = 0\n",
    "        self.b1 = 0\n",
    "        \n",
    "    def sigmoid(self, x):\n",
    "        return 1 / (1 + np.exp(-x))\n",
    "    \n",
    "    def bce_loss(self, y, y_hat):\n",
    "        # binary cross entropy loss function\n",
    "        m = y.shape[0]\n",
    "        return -(1/m) * sum(y*np.log(y_hat) + (1 - y)*np.log(1 - y_hat) )\n",
    "    \n",
    "    def compute_gradients(self, x, y, y_hat):\n",
    "        m = y.shape[0]\n",
    "        return (1 / m) * np.dot(x.T, y_hat - y)\n",
    "    \n",
    "    def fit(X, y):\n",
    "        max_steps = 10\n",
    "        lr = .01\n",
    "        cost = []\n",
    "        for step in range(max_steps):\n",
    "            y_hat = sigmoid()\n",
    "            cost.append(bce_loss())"
   ]
  },
  {
   "cell_type": "markdown",
   "id": "7ca0e149",
   "metadata": {},
   "source": [
    "# K-Nearest Neighbors"
   ]
  },
  {
   "cell_type": "code",
   "execution_count": 5,
   "id": "4f3c8eba",
   "metadata": {
    "ExecuteTime": {
     "end_time": "2022-09-26T00:46:08.374037Z",
     "start_time": "2022-09-26T00:46:08.368190Z"
    }
   },
   "outputs": [],
   "source": [
    "class KNearestNeighbors:\n",
    "    def __init__(self):\n",
    "        pass\n",
    "    \n",
    "    def euclidian_distance(self, new_point, data):\n",
    "        distances = [(new_point[i] - data[i])**2 for i in range(len(new_point))]\n",
    "        return np.sqrt(sum(distances))\n",
    "    \n",
    "    def get_neighbors(self, new_point, data, k):\n",
    "        distances = []\n",
    "        for point in data:\n",
    "            distances.append((point, euclidian_distance(new_point, point)))\n",
    "        distances.sort(key=lambda tup: tup[1])\n",
    "        neighbors = [distances[i][0] for i in range(k)]\n",
    "        return neighbors"
   ]
  },
  {
   "cell_type": "markdown",
   "id": "ecb3e132",
   "metadata": {},
   "source": [
    "# Topic Modeling: Latent Semantic Analysis (LSA)"
   ]
  },
  {
   "cell_type": "code",
   "execution_count": 22,
   "id": "8b66ef08",
   "metadata": {},
   "outputs": [],
   "source": [
    "from sklearn.feature_extraction.text import TfidfVectorizer\n",
    "from sklearn.decomposition import TruncatedSVD\n",
    "\n",
    "class LSA():\n",
    "    def __init__(self, docs):\n",
    "        # convert documents to TF-IDF vectors\n",
    "        self.TF_IDF = TfidfVectorizer()\n",
    "        self.TF_IDF.fit(docs)\n",
    "        vectors = self.TF_IDF.transform(docs)\n",
    "\n",
    "        # build the LSA topic model\n",
    "        self.LSA_model = TruncatedSVD()\n",
    "        self.LSA_model.fit(vectors)\n",
    "        return\n",
    "    \n",
    "    def get_features(self, new_docs):\n",
    "        # get topic-based features for new documents\n",
    "        new_vectors = self.TF_IDF.transform(new_docs)\n",
    "        return self.LSA_model.transform(new_vectors)"
   ]
  },
  {
   "cell_type": "code",
   "execution_count": 29,
   "id": "f1419a29",
   "metadata": {},
   "outputs": [
    {
     "data": {
      "text/plain": [
       "array([[7.75239670e-01, 6.31667202e-01],\n",
       "       [7.75239670e-01, 2.77555756e-16]])"
      ]
     },
     "execution_count": 29,
     "metadata": {},
     "output_type": "execute_result"
    }
   ],
   "source": [
    "docs = [\"This is a text.\", \"This another one.\"]\n",
    "LSA_featurizer = LSA(docs)\n",
    "\n",
    "new_docs = [\"This is a third text.\", \"This is a fourth one.\"]\n",
    "LSA_features = LSA_featurizer.get_features(new_docs)\n",
    "LSA_features"
   ]
  },
  {
   "cell_type": "markdown",
   "id": "a36b5ffd",
   "metadata": {},
   "source": [
    "# Topic Modeling: Latent Dirichlet Allocation (LDA)"
   ]
  },
  {
   "cell_type": "code",
   "execution_count": 34,
   "id": "47c009b1",
   "metadata": {},
   "outputs": [],
   "source": [
    "from sklearn.feature_extraction.text import CountVectorizer\n",
    "from sklearn.decomposition import LatentDirichletAllocation\n",
    "\n",
    "class LDA():\n",
    "    def __init__(self, docs):\n",
    "        # convert documents to TF_IDF vectors\n",
    "        self.TF = CountVectorizer()\n",
    "        self.TF.fit(docs)\n",
    "        vectors = self.TF.transform(docs)\n",
    "\n",
    "        # build the LDA topic model\n",
    "        self.LDA_model = LatentDirichletAllocation(n_components=50)\n",
    "        self.LDA_model.fit(vectors)\n",
    "        return\n",
    "    \n",
    "    def get_features(self, new_docs):\n",
    "        # get topic-based features for new documents\n",
    "        new_vectors = self.TF.transform(new_docs)\n",
    "        return self.LDA_model.transform(new_vectors)"
   ]
  },
  {
   "cell_type": "code",
   "execution_count": 35,
   "id": "98c92ab1",
   "metadata": {},
   "outputs": [
    {
     "data": {
      "text/plain": [
       "array([[0.005, 0.005, 0.005, 0.005, 0.005, 0.005, 0.005, 0.005, 0.755,\n",
       "        0.005, 0.005, 0.005, 0.005, 0.005, 0.005, 0.005, 0.005, 0.005,\n",
       "        0.005, 0.005, 0.005, 0.005, 0.005, 0.005, 0.005, 0.005, 0.005,\n",
       "        0.005, 0.005, 0.005, 0.005, 0.005, 0.005, 0.005, 0.005, 0.005,\n",
       "        0.005, 0.005, 0.005, 0.005, 0.005, 0.005, 0.005, 0.005, 0.005,\n",
       "        0.005, 0.005, 0.005, 0.005, 0.005],\n",
       "       [0.005, 0.005, 0.38 , 0.005, 0.005, 0.005, 0.005, 0.005, 0.38 ,\n",
       "        0.005, 0.005, 0.005, 0.005, 0.005, 0.005, 0.005, 0.005, 0.005,\n",
       "        0.005, 0.005, 0.005, 0.005, 0.005, 0.005, 0.005, 0.005, 0.005,\n",
       "        0.005, 0.005, 0.005, 0.005, 0.005, 0.005, 0.005, 0.005, 0.005,\n",
       "        0.005, 0.005, 0.005, 0.005, 0.005, 0.005, 0.005, 0.005, 0.005,\n",
       "        0.005, 0.005, 0.005, 0.005, 0.005]])"
      ]
     },
     "execution_count": 35,
     "metadata": {},
     "output_type": "execute_result"
    }
   ],
   "source": [
    "docs = [\"This is a text.\", \"This another one.\"]\n",
    "LDA_featurizer = LDA(docs)\n",
    "\n",
    "new_docs = [\"This is a third text.\", \"This is a fourth one.\"]\n",
    "LDA_features = LDA_featurizer.get_features(new_docs)\n",
    "LDA_features"
   ]
  }
 ],
 "metadata": {
  "hide_input": false,
  "kernelspec": {
   "display_name": "Python 3.7.12 ('env_pytorch')",
   "language": "python",
   "name": "python3"
  },
  "language_info": {
   "codemirror_mode": {
    "name": "ipython",
    "version": 3
   },
   "file_extension": ".py",
   "mimetype": "text/x-python",
   "name": "python",
   "nbconvert_exporter": "python",
   "pygments_lexer": "ipython3",
   "version": "3.7.12"
  },
  "toc": {
   "base_numbering": 1,
   "nav_menu": {},
   "number_sections": false,
   "sideBar": true,
   "skip_h1_title": false,
   "title_cell": "Table of Contents",
   "title_sidebar": "Contents",
   "toc_cell": false,
   "toc_position": {},
   "toc_section_display": true,
   "toc_window_display": false
  },
  "varInspector": {
   "cols": {
    "lenName": 16,
    "lenType": 16,
    "lenVar": 40
   },
   "kernels_config": {
    "python": {
     "delete_cmd_postfix": "",
     "delete_cmd_prefix": "del ",
     "library": "var_list.py",
     "varRefreshCmd": "print(var_dic_list())"
    },
    "r": {
     "delete_cmd_postfix": ") ",
     "delete_cmd_prefix": "rm(",
     "library": "var_list.r",
     "varRefreshCmd": "cat(var_dic_list()) "
    }
   },
   "types_to_exclude": [
    "module",
    "function",
    "builtin_function_or_method",
    "instance",
    "_Feature"
   ],
   "window_display": false
  },
  "vscode": {
   "interpreter": {
    "hash": "660b1aac95ddf926f3e1b2823369e8175e15676151a70467de48ed49553a0ab3"
   }
  }
 },
 "nbformat": 4,
 "nbformat_minor": 5
}
